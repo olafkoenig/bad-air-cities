{
 "cells": [
  {
   "cell_type": "markdown",
   "id": "e9243e87",
   "metadata": {},
   "source": [
    "# IQ Air Tutorial \n",
    "\n",
    "https://www.youtube.com/watch?v=QNKxzkNpsko\n",
    "\n",
    "Data source: https://www.iqair.com/us/world-air-quality-ranking"
   ]
  },
  {
   "cell_type": "code",
   "execution_count": 1,
   "id": "10f10bf2",
   "metadata": {},
   "outputs": [],
   "source": [
    "import pandas as pd"
   ]
  },
  {
   "cell_type": "code",
   "execution_count": 15,
   "id": "e3363f84",
   "metadata": {},
   "outputs": [
    {
     "data": {
      "text/plain": [
       "1"
      ]
     },
     "execution_count": 15,
     "metadata": {},
     "output_type": "execute_result"
    }
   ],
   "source": [
    "tables = pd.read_html(\"https://www.iqair.com/us/world-air-quality-ranking\")\n",
    "len(tables)"
   ]
  },
  {
   "cell_type": "code",
   "execution_count": 17,
   "id": "351e38a9",
   "metadata": {},
   "outputs": [
    {
     "data": {
      "application/vnd.microsoft.datawrangler.viewer.v0+json": {
       "columns": [
        {
         "name": "index",
         "rawType": "int64",
         "type": "integer"
        },
        {
         "name": "Rank",
         "rawType": "int64",
         "type": "integer"
        },
        {
         "name": "Major city, country/region",
         "rawType": "float64",
         "type": "float"
        },
        {
         "name": "Major city, country/region.1",
         "rawType": "object",
         "type": "string"
        },
        {
         "name": "AQI⁺ US",
         "rawType": "int64",
         "type": "integer"
        },
        {
         "name": "Followers",
         "rawType": "object",
         "type": "string"
        }
       ],
       "ref": "37f419c9-78a7-4bb8-8421-f6b51aaaa474",
       "rows": [
        [
         "0",
         "1",
         null,
         "Delhi, India",
         "169",
         "2.8M followers"
        ],
        [
         "1",
         "2",
         null,
         "Medan, Indonesia",
         "155",
         "1.4M followers"
        ],
        [
         "2",
         "3",
         null,
         "Jakarta, Indonesia",
         "150",
         "1.8M followers"
        ],
        [
         "3",
         "4",
         null,
         "Baghdad, Iraq",
         "144",
         "88.5K followers"
        ],
        [
         "4",
         "5",
         null,
         "Kinshasa, Democratic Republic of the Congo",
         "124",
         "9.8K followers"
        ],
        [
         "5",
         "6",
         null,
         "Santiago, Chile",
         "122",
         "117.7K followers"
        ],
        [
         "6",
         "7",
         null,
         "Ljubljana, Slovenia",
         "119",
         "41.6K followers"
        ],
        [
         "7",
         "8",
         null,
         "Zagreb, Croatia",
         "119",
         "43.1K followers"
        ],
        [
         "8",
         "9",
         null,
         "Kathmandu, Nepal",
         "117",
         "203.7K followers"
        ],
        [
         "9",
         "10",
         null,
         "Kuwait City, Kuwait",
         "113",
         "81.2K followers"
        ],
        [
         "10",
         "11",
         null,
         "Addis Ababa, Ethiopia",
         "109",
         "19.9K followers"
        ],
        [
         "11",
         "12",
         null,
         "Batam, Indonesia",
         "107",
         "1.3M followers"
        ],
        [
         "12",
         "13",
         null,
         "Lahore, Pakistan",
         "107",
         "541.5K followers"
        ],
        [
         "13",
         "14",
         null,
         "Milano, Italy",
         "101",
         "211.3K followers"
        ],
        [
         "14",
         "15",
         null,
         "Ho Chi Minh City, Vietnam",
         "99",
         "2.3M followers"
        ],
        [
         "15",
         "16",
         null,
         "Dakar, Senegal",
         "97",
         "18K followers"
        ],
        [
         "16",
         "17",
         null,
         "Chengdu, China",
         "96",
         "2.1M followers"
        ],
        [
         "17",
         "18",
         null,
         "Lyon, France",
         "95",
         "549.7K followers"
        ],
        [
         "18",
         "19",
         null,
         "Toronto, Canada",
         "90",
         "540.6K followers"
        ],
        [
         "19",
         "20",
         null,
         "Tashkent, Uzbekistan",
         "90",
         "259.3K followers"
        ],
        [
         "20",
         "21",
         null,
         "Algiers, Algeria",
         "88",
         "40.6K followers"
        ],
        [
         "21",
         "22",
         null,
         "Johannesburg, South Africa",
         "88",
         "72.3K followers"
        ],
        [
         "22",
         "23",
         null,
         "Bern, Switzerland",
         "84",
         "113.9K followers"
        ],
        [
         "23",
         "24",
         null,
         "Beijing, China",
         "84",
         "9.8M followers"
        ],
        [
         "24",
         "25",
         null,
         "Cairo, Egypt",
         "83",
         "57.6K followers"
        ],
        [
         "25",
         "26",
         null,
         "Karachi, Pakistan",
         "83",
         "103.1K followers"
        ],
        [
         "26",
         "27",
         null,
         "Los Angeles, USA",
         "83",
         "8.5M followers"
        ],
        [
         "27",
         "28",
         null,
         "Minneapolis, USA",
         "82",
         "32K followers"
        ],
        [
         "28",
         "29",
         null,
         "Rome, Italy",
         "81",
         "130.3K followers"
        ],
        [
         "29",
         "30",
         null,
         "Jerusalem, Israel",
         "80",
         "70K followers"
        ],
        [
         "30",
         "31",
         null,
         "Chicago, USA",
         "80",
         "83.1K followers"
        ],
        [
         "31",
         "32",
         null,
         "Baku, Azerbaijan",
         "79",
         "22.7K followers"
        ],
        [
         "32",
         "33",
         null,
         "Nice, France",
         "78",
         "506.8K followers"
        ],
        [
         "33",
         "34",
         null,
         "Bishkek, Kyrgyzstan",
         "77",
         "94.7K followers"
        ],
        [
         "34",
         "35",
         null,
         "Wuhan, China",
         "76",
         "450K followers"
        ],
        [
         "35",
         "36",
         null,
         "Doha, Qatar",
         "75",
         "138.1K followers"
        ],
        [
         "36",
         "37",
         null,
         "Riyadh, Saudi Arabia",
         "75",
         "125.5K followers"
        ],
        [
         "37",
         "38",
         null,
         "Kolkata, India",
         "75",
         "1.4M followers"
        ],
        [
         "38",
         "39",
         null,
         "Dhaka, Bangladesh",
         "75",
         "280.6K followers"
        ],
        [
         "39",
         "40",
         null,
         "Sarajevo, Bosnia Herzegovina",
         "75",
         "112.3K followers"
        ],
        [
         "40",
         "41",
         null,
         "Sofia, Bulgaria",
         "75",
         "139.7K followers"
        ],
        [
         "41",
         "42",
         null,
         "Kampala, Uganda",
         "73",
         "13.2K followers"
        ],
        [
         "42",
         "43",
         null,
         "Pristina, Kosovo",
         "73",
         "29.4K followers"
        ],
        [
         "43",
         "44",
         null,
         "Detroit, USA",
         "72",
         "32.4K followers"
        ],
        [
         "44",
         "45",
         null,
         "Manama, Bahrain",
         "71",
         "42.7K followers"
        ],
        [
         "45",
         "46",
         null,
         "Belgrade, Serbia",
         "71",
         "461K followers"
        ],
        [
         "46",
         "47",
         null,
         "Chongqing, China",
         "71",
         "248.4K followers"
        ],
        [
         "47",
         "48",
         null,
         "Dubai, United Arab Emirates",
         "71",
         "556K followers"
        ],
        [
         "48",
         "49",
         null,
         "Skopje, North Macedonia",
         "68",
         "43.2K followers"
        ],
        [
         "49",
         "50",
         null,
         "Accra, Ghana",
         "68",
         "12.1K followers"
        ]
       ],
       "shape": {
        "columns": 5,
        "rows": 125
       }
      },
      "text/html": [
       "<div>\n",
       "<style scoped>\n",
       "    .dataframe tbody tr th:only-of-type {\n",
       "        vertical-align: middle;\n",
       "    }\n",
       "\n",
       "    .dataframe tbody tr th {\n",
       "        vertical-align: top;\n",
       "    }\n",
       "\n",
       "    .dataframe thead th {\n",
       "        text-align: right;\n",
       "    }\n",
       "</style>\n",
       "<table border=\"1\" class=\"dataframe\">\n",
       "  <thead>\n",
       "    <tr style=\"text-align: right;\">\n",
       "      <th></th>\n",
       "      <th>Rank</th>\n",
       "      <th>Major city, country/region</th>\n",
       "      <th>Major city, country/region.1</th>\n",
       "      <th>AQI⁺ US</th>\n",
       "      <th>Followers</th>\n",
       "    </tr>\n",
       "  </thead>\n",
       "  <tbody>\n",
       "    <tr>\n",
       "      <th>0</th>\n",
       "      <td>1</td>\n",
       "      <td>NaN</td>\n",
       "      <td>Delhi, India</td>\n",
       "      <td>169</td>\n",
       "      <td>2.8M followers</td>\n",
       "    </tr>\n",
       "    <tr>\n",
       "      <th>1</th>\n",
       "      <td>2</td>\n",
       "      <td>NaN</td>\n",
       "      <td>Medan, Indonesia</td>\n",
       "      <td>155</td>\n",
       "      <td>1.4M followers</td>\n",
       "    </tr>\n",
       "    <tr>\n",
       "      <th>2</th>\n",
       "      <td>3</td>\n",
       "      <td>NaN</td>\n",
       "      <td>Jakarta, Indonesia</td>\n",
       "      <td>150</td>\n",
       "      <td>1.8M followers</td>\n",
       "    </tr>\n",
       "    <tr>\n",
       "      <th>3</th>\n",
       "      <td>4</td>\n",
       "      <td>NaN</td>\n",
       "      <td>Baghdad, Iraq</td>\n",
       "      <td>144</td>\n",
       "      <td>88.5K followers</td>\n",
       "    </tr>\n",
       "    <tr>\n",
       "      <th>4</th>\n",
       "      <td>5</td>\n",
       "      <td>NaN</td>\n",
       "      <td>Kinshasa, Democratic Republic of the Congo</td>\n",
       "      <td>124</td>\n",
       "      <td>9.8K followers</td>\n",
       "    </tr>\n",
       "    <tr>\n",
       "      <th>...</th>\n",
       "      <td>...</td>\n",
       "      <td>...</td>\n",
       "      <td>...</td>\n",
       "      <td>...</td>\n",
       "      <td>...</td>\n",
       "    </tr>\n",
       "    <tr>\n",
       "      <th>120</th>\n",
       "      <td>121</td>\n",
       "      <td>NaN</td>\n",
       "      <td>Hong Kong, Hong Kong SAR</td>\n",
       "      <td>23</td>\n",
       "      <td>894.5K followers</td>\n",
       "    </tr>\n",
       "    <tr>\n",
       "      <th>121</th>\n",
       "      <td>122</td>\n",
       "      <td>NaN</td>\n",
       "      <td>Chiang Mai, Thailand</td>\n",
       "      <td>22</td>\n",
       "      <td>12.5M followers</td>\n",
       "    </tr>\n",
       "    <tr>\n",
       "      <th>122</th>\n",
       "      <td>123</td>\n",
       "      <td>NaN</td>\n",
       "      <td>Sydney, Australia</td>\n",
       "      <td>18</td>\n",
       "      <td>1.7M followers</td>\n",
       "    </tr>\n",
       "    <tr>\n",
       "      <th>123</th>\n",
       "      <td>124</td>\n",
       "      <td>NaN</td>\n",
       "      <td>Shenzhen, China</td>\n",
       "      <td>17</td>\n",
       "      <td>556.9K followers</td>\n",
       "    </tr>\n",
       "    <tr>\n",
       "      <th>124</th>\n",
       "      <td>125</td>\n",
       "      <td>NaN</td>\n",
       "      <td>Houston, USA</td>\n",
       "      <td>12</td>\n",
       "      <td>51.6K followers</td>\n",
       "    </tr>\n",
       "  </tbody>\n",
       "</table>\n",
       "<p>125 rows × 5 columns</p>\n",
       "</div>"
      ],
      "text/plain": [
       "     Rank  Major city, country/region  \\\n",
       "0       1                         NaN   \n",
       "1       2                         NaN   \n",
       "2       3                         NaN   \n",
       "3       4                         NaN   \n",
       "4       5                         NaN   \n",
       "..    ...                         ...   \n",
       "120   121                         NaN   \n",
       "121   122                         NaN   \n",
       "122   123                         NaN   \n",
       "123   124                         NaN   \n",
       "124   125                         NaN   \n",
       "\n",
       "                   Major city, country/region.1  AQI⁺ US         Followers  \n",
       "0                                  Delhi, India      169    2.8M followers  \n",
       "1                              Medan, Indonesia      155    1.4M followers  \n",
       "2                            Jakarta, Indonesia      150    1.8M followers  \n",
       "3                                 Baghdad, Iraq      144   88.5K followers  \n",
       "4    Kinshasa, Democratic Republic of the Congo      124    9.8K followers  \n",
       "..                                          ...      ...               ...  \n",
       "120                    Hong Kong, Hong Kong SAR       23  894.5K followers  \n",
       "121                        Chiang Mai, Thailand       22   12.5M followers  \n",
       "122                           Sydney, Australia       18    1.7M followers  \n",
       "123                             Shenzhen, China       17  556.9K followers  \n",
       "124                                Houston, USA       12   51.6K followers  \n",
       "\n",
       "[125 rows x 5 columns]"
      ]
     },
     "execution_count": 17,
     "metadata": {},
     "output_type": "execute_result"
    }
   ],
   "source": [
    "df = tables[0]\n",
    "df\n",
    "# df.columns"
   ]
  },
  {
   "cell_type": "code",
   "execution_count": 18,
   "id": "99a4c709",
   "metadata": {},
   "outputs": [],
   "source": [
    "df = df.drop(columns = ['Major city, country/region'])"
   ]
  },
  {
   "cell_type": "code",
   "execution_count": 19,
   "id": "948041b4",
   "metadata": {},
   "outputs": [
    {
     "data": {
      "application/vnd.microsoft.datawrangler.viewer.v0+json": {
       "columns": [
        {
         "name": "index",
         "rawType": "int64",
         "type": "integer"
        },
        {
         "name": "Rank",
         "rawType": "int64",
         "type": "integer"
        },
        {
         "name": "Location",
         "rawType": "object",
         "type": "string"
        },
        {
         "name": "AQI⁺ US",
         "rawType": "int64",
         "type": "integer"
        },
        {
         "name": "Followers",
         "rawType": "object",
         "type": "string"
        }
       ],
       "ref": "55f75dfd-c9ca-4cc0-8863-97a5b10b0ff4",
       "rows": [
        [
         "0",
         "1",
         "Delhi, India",
         "169",
         "2.8M followers"
        ],
        [
         "1",
         "2",
         "Medan, Indonesia",
         "155",
         "1.4M followers"
        ],
        [
         "2",
         "3",
         "Jakarta, Indonesia",
         "150",
         "1.8M followers"
        ],
        [
         "3",
         "4",
         "Baghdad, Iraq",
         "144",
         "88.5K followers"
        ],
        [
         "4",
         "5",
         "Kinshasa, Democratic Republic of the Congo",
         "124",
         "9.8K followers"
        ],
        [
         "5",
         "6",
         "Santiago, Chile",
         "122",
         "117.7K followers"
        ],
        [
         "6",
         "7",
         "Ljubljana, Slovenia",
         "119",
         "41.6K followers"
        ],
        [
         "7",
         "8",
         "Zagreb, Croatia",
         "119",
         "43.1K followers"
        ],
        [
         "8",
         "9",
         "Kathmandu, Nepal",
         "117",
         "203.7K followers"
        ],
        [
         "9",
         "10",
         "Kuwait City, Kuwait",
         "113",
         "81.2K followers"
        ],
        [
         "10",
         "11",
         "Addis Ababa, Ethiopia",
         "109",
         "19.9K followers"
        ],
        [
         "11",
         "12",
         "Batam, Indonesia",
         "107",
         "1.3M followers"
        ],
        [
         "12",
         "13",
         "Lahore, Pakistan",
         "107",
         "541.5K followers"
        ],
        [
         "13",
         "14",
         "Milano, Italy",
         "101",
         "211.3K followers"
        ],
        [
         "14",
         "15",
         "Ho Chi Minh City, Vietnam",
         "99",
         "2.3M followers"
        ],
        [
         "15",
         "16",
         "Dakar, Senegal",
         "97",
         "18K followers"
        ],
        [
         "16",
         "17",
         "Chengdu, China",
         "96",
         "2.1M followers"
        ],
        [
         "17",
         "18",
         "Lyon, France",
         "95",
         "549.7K followers"
        ],
        [
         "18",
         "19",
         "Toronto, Canada",
         "90",
         "540.6K followers"
        ],
        [
         "19",
         "20",
         "Tashkent, Uzbekistan",
         "90",
         "259.3K followers"
        ],
        [
         "20",
         "21",
         "Algiers, Algeria",
         "88",
         "40.6K followers"
        ],
        [
         "21",
         "22",
         "Johannesburg, South Africa",
         "88",
         "72.3K followers"
        ],
        [
         "22",
         "23",
         "Bern, Switzerland",
         "84",
         "113.9K followers"
        ],
        [
         "23",
         "24",
         "Beijing, China",
         "84",
         "9.8M followers"
        ],
        [
         "24",
         "25",
         "Cairo, Egypt",
         "83",
         "57.6K followers"
        ],
        [
         "25",
         "26",
         "Karachi, Pakistan",
         "83",
         "103.1K followers"
        ],
        [
         "26",
         "27",
         "Los Angeles, USA",
         "83",
         "8.5M followers"
        ],
        [
         "27",
         "28",
         "Minneapolis, USA",
         "82",
         "32K followers"
        ],
        [
         "28",
         "29",
         "Rome, Italy",
         "81",
         "130.3K followers"
        ],
        [
         "29",
         "30",
         "Jerusalem, Israel",
         "80",
         "70K followers"
        ],
        [
         "30",
         "31",
         "Chicago, USA",
         "80",
         "83.1K followers"
        ],
        [
         "31",
         "32",
         "Baku, Azerbaijan",
         "79",
         "22.7K followers"
        ],
        [
         "32",
         "33",
         "Nice, France",
         "78",
         "506.8K followers"
        ],
        [
         "33",
         "34",
         "Bishkek, Kyrgyzstan",
         "77",
         "94.7K followers"
        ],
        [
         "34",
         "35",
         "Wuhan, China",
         "76",
         "450K followers"
        ],
        [
         "35",
         "36",
         "Doha, Qatar",
         "75",
         "138.1K followers"
        ],
        [
         "36",
         "37",
         "Riyadh, Saudi Arabia",
         "75",
         "125.5K followers"
        ],
        [
         "37",
         "38",
         "Kolkata, India",
         "75",
         "1.4M followers"
        ],
        [
         "38",
         "39",
         "Dhaka, Bangladesh",
         "75",
         "280.6K followers"
        ],
        [
         "39",
         "40",
         "Sarajevo, Bosnia Herzegovina",
         "75",
         "112.3K followers"
        ],
        [
         "40",
         "41",
         "Sofia, Bulgaria",
         "75",
         "139.7K followers"
        ],
        [
         "41",
         "42",
         "Kampala, Uganda",
         "73",
         "13.2K followers"
        ],
        [
         "42",
         "43",
         "Pristina, Kosovo",
         "73",
         "29.4K followers"
        ],
        [
         "43",
         "44",
         "Detroit, USA",
         "72",
         "32.4K followers"
        ],
        [
         "44",
         "45",
         "Manama, Bahrain",
         "71",
         "42.7K followers"
        ],
        [
         "45",
         "46",
         "Belgrade, Serbia",
         "71",
         "461K followers"
        ],
        [
         "46",
         "47",
         "Chongqing, China",
         "71",
         "248.4K followers"
        ],
        [
         "47",
         "48",
         "Dubai, United Arab Emirates",
         "71",
         "556K followers"
        ],
        [
         "48",
         "49",
         "Skopje, North Macedonia",
         "68",
         "43.2K followers"
        ],
        [
         "49",
         "50",
         "Accra, Ghana",
         "68",
         "12.1K followers"
        ]
       ],
       "shape": {
        "columns": 4,
        "rows": 125
       }
      },
      "text/html": [
       "<div>\n",
       "<style scoped>\n",
       "    .dataframe tbody tr th:only-of-type {\n",
       "        vertical-align: middle;\n",
       "    }\n",
       "\n",
       "    .dataframe tbody tr th {\n",
       "        vertical-align: top;\n",
       "    }\n",
       "\n",
       "    .dataframe thead th {\n",
       "        text-align: right;\n",
       "    }\n",
       "</style>\n",
       "<table border=\"1\" class=\"dataframe\">\n",
       "  <thead>\n",
       "    <tr style=\"text-align: right;\">\n",
       "      <th></th>\n",
       "      <th>Rank</th>\n",
       "      <th>Location</th>\n",
       "      <th>AQI⁺ US</th>\n",
       "      <th>Followers</th>\n",
       "    </tr>\n",
       "  </thead>\n",
       "  <tbody>\n",
       "    <tr>\n",
       "      <th>0</th>\n",
       "      <td>1</td>\n",
       "      <td>Delhi, India</td>\n",
       "      <td>169</td>\n",
       "      <td>2.8M followers</td>\n",
       "    </tr>\n",
       "    <tr>\n",
       "      <th>1</th>\n",
       "      <td>2</td>\n",
       "      <td>Medan, Indonesia</td>\n",
       "      <td>155</td>\n",
       "      <td>1.4M followers</td>\n",
       "    </tr>\n",
       "    <tr>\n",
       "      <th>2</th>\n",
       "      <td>3</td>\n",
       "      <td>Jakarta, Indonesia</td>\n",
       "      <td>150</td>\n",
       "      <td>1.8M followers</td>\n",
       "    </tr>\n",
       "    <tr>\n",
       "      <th>3</th>\n",
       "      <td>4</td>\n",
       "      <td>Baghdad, Iraq</td>\n",
       "      <td>144</td>\n",
       "      <td>88.5K followers</td>\n",
       "    </tr>\n",
       "    <tr>\n",
       "      <th>4</th>\n",
       "      <td>5</td>\n",
       "      <td>Kinshasa, Democratic Republic of the Congo</td>\n",
       "      <td>124</td>\n",
       "      <td>9.8K followers</td>\n",
       "    </tr>\n",
       "    <tr>\n",
       "      <th>...</th>\n",
       "      <td>...</td>\n",
       "      <td>...</td>\n",
       "      <td>...</td>\n",
       "      <td>...</td>\n",
       "    </tr>\n",
       "    <tr>\n",
       "      <th>120</th>\n",
       "      <td>121</td>\n",
       "      <td>Hong Kong, Hong Kong SAR</td>\n",
       "      <td>23</td>\n",
       "      <td>894.5K followers</td>\n",
       "    </tr>\n",
       "    <tr>\n",
       "      <th>121</th>\n",
       "      <td>122</td>\n",
       "      <td>Chiang Mai, Thailand</td>\n",
       "      <td>22</td>\n",
       "      <td>12.5M followers</td>\n",
       "    </tr>\n",
       "    <tr>\n",
       "      <th>122</th>\n",
       "      <td>123</td>\n",
       "      <td>Sydney, Australia</td>\n",
       "      <td>18</td>\n",
       "      <td>1.7M followers</td>\n",
       "    </tr>\n",
       "    <tr>\n",
       "      <th>123</th>\n",
       "      <td>124</td>\n",
       "      <td>Shenzhen, China</td>\n",
       "      <td>17</td>\n",
       "      <td>556.9K followers</td>\n",
       "    </tr>\n",
       "    <tr>\n",
       "      <th>124</th>\n",
       "      <td>125</td>\n",
       "      <td>Houston, USA</td>\n",
       "      <td>12</td>\n",
       "      <td>51.6K followers</td>\n",
       "    </tr>\n",
       "  </tbody>\n",
       "</table>\n",
       "<p>125 rows × 4 columns</p>\n",
       "</div>"
      ],
      "text/plain": [
       "     Rank                                    Location  AQI⁺ US  \\\n",
       "0       1                                Delhi, India      169   \n",
       "1       2                            Medan, Indonesia      155   \n",
       "2       3                          Jakarta, Indonesia      150   \n",
       "3       4                               Baghdad, Iraq      144   \n",
       "4       5  Kinshasa, Democratic Republic of the Congo      124   \n",
       "..    ...                                         ...      ...   \n",
       "120   121                    Hong Kong, Hong Kong SAR       23   \n",
       "121   122                        Chiang Mai, Thailand       22   \n",
       "122   123                           Sydney, Australia       18   \n",
       "123   124                             Shenzhen, China       17   \n",
       "124   125                                Houston, USA       12   \n",
       "\n",
       "            Followers  \n",
       "0      2.8M followers  \n",
       "1      1.4M followers  \n",
       "2      1.8M followers  \n",
       "3     88.5K followers  \n",
       "4      9.8K followers  \n",
       "..                ...  \n",
       "120  894.5K followers  \n",
       "121   12.5M followers  \n",
       "122    1.7M followers  \n",
       "123  556.9K followers  \n",
       "124   51.6K followers  \n",
       "\n",
       "[125 rows x 4 columns]"
      ]
     },
     "execution_count": 19,
     "metadata": {},
     "output_type": "execute_result"
    }
   ],
   "source": [
    "df.rename(columns={'Major city, country/region.1' : 'Location'})"
   ]
  },
  {
   "cell_type": "code",
   "execution_count": 20,
   "id": "697c7963",
   "metadata": {},
   "outputs": [],
   "source": [
    "df.to_csv('air_quality.csv', index=False)"
   ]
  },
  {
   "cell_type": "code",
   "execution_count": null,
   "id": "d70c9125",
   "metadata": {},
   "outputs": [],
   "source": []
  }
 ],
 "metadata": {
  "kernelspec": {
   "display_name": "Python 3",
   "language": "python",
   "name": "python3"
  },
  "language_info": {
   "codemirror_mode": {
    "name": "ipython",
    "version": 3
   },
   "file_extension": ".py",
   "mimetype": "text/x-python",
   "name": "python",
   "nbconvert_exporter": "python",
   "pygments_lexer": "ipython3",
   "version": "3.12.2"
  }
 },
 "nbformat": 4,
 "nbformat_minor": 5
}
